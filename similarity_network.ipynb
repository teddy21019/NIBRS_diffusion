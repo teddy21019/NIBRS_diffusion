{
 "cells": [
  {
   "cell_type": "code",
   "execution_count": 1,
   "metadata": {},
   "outputs": [],
   "source": [
    "import pandas as pd\n",
    "import numpy as np"
   ]
  },
  {
   "cell_type": "code",
   "execution_count": 2,
   "metadata": {},
   "outputs": [],
   "source": [
    "all_df = pd.read_pickle(\"DATA/BH.pkl\")\n",
    "all_df = all_df[pd.to_numeric(all_df['NUMBER OF MONTHS REPORTED'], errors='coerce').notnull()]"
   ]
  },
  {
   "cell_type": "code",
   "execution_count": 3,
   "metadata": {},
   "outputs": [
    {
     "data": {
      "text/plain": [
       "Index(['SEGMENT LEVEL', 'NUMERIC STATE CODE', 'ORI', 'DATE ORI WAS ADDED',\n",
       "       'DATE ORI WENT NIBRS', 'CITY NAME', 'STATE ABBREVIATION',\n",
       "       'POPULATION GROUP', 'COUNTRY DIVISION', 'COUNTRY REGION',\n",
       "       'AGENCY INDICATOR', 'CORE CITY', 'COVERED-BY ORI', 'FBI FIELD OFFICE',\n",
       "       'JUDICIAL DISTRICT', 'AGENCY NIBRS FLAG', 'AGENCY INACTIVE DATE',\n",
       "       'CURRENT POPULATION 1', 'UCR COUNTY CODE 1', 'MSA CODE 1',\n",
       "       'LAST POPULATION  1', 'CURRENT POPULATION 2', 'UCR COUNTY CODE 2',\n",
       "       'MSA CODE 2', 'LAST POPULATION  2', 'CURRENT POPULATION 3',\n",
       "       'UCR COUNTY CODE 3', 'MSA CODE 3', 'LAST POPULATION  3',\n",
       "       'CURRENT POPULATION 4', 'UCR COUNTY CODE 4', 'MSA CODE 4',\n",
       "       'LAST POPULATION  4', 'CURRENT POPULATION 5', 'UCR COUNTY CODE 5',\n",
       "       'MSA CODE 5', 'LAST POPULATION 5', '01-06-12 INDICATOR',\n",
       "       'NUMBER OF MONTHS REPORTED', 'MASTER FILE YEAR',\n",
       "       'AGENCY ACTIVITY INDICATOR 1', 'AGENCY ACTIVITY INDICATOR 2',\n",
       "       'AGENCY ACTIVITY INDICATOR 3', 'AGENCY ACTIVITY INDICATOR 4',\n",
       "       'AGENCY ACTIVITY INDICATOR 5', 'AGENCY ACTIVITY INDICATOR 6',\n",
       "       'AGENCY ACTIVITY INDICATOR 7', 'AGENCY ACTIVITY INDICATOR 8',\n",
       "       'AGENCY ACTIVITY INDICATOR 9', 'AGENCY ACTIVITY INDICATOR 10',\n",
       "       'AGENCY ACTIVITY INDICATOR 11', 'AGENCY ACTIVITY INDICATOR 12',\n",
       "       'FIPS COUNTY  1', 'FIPS COUNTY  2', 'FIPS COUNTY  3', 'FIPS COUNTY  4',\n",
       "       'FIPS COUNTY  5', 'year',\n",
       "       'DATE STATE BEGAN IBR FOR LAW ENFORCEMENT OFFICERS KILLED AND ASSAULTED (LEOKA) DATA'],\n",
       "      dtype='object')"
      ]
     },
     "execution_count": 3,
     "metadata": {},
     "output_type": "execute_result"
    }
   ],
   "source": [
    "all_df.columns"
   ]
  },
  {
   "cell_type": "code",
   "execution_count": 3,
   "metadata": {},
   "outputs": [],
   "source": [
    "from sklearn.metrics.pairwise import cosine_similarity\n",
    "from abc import ABC, abstractmethod\n",
    "from functools import cached_property\n",
    "import networkx as nx\n",
    "\n",
    "class Similarity(ABC):\n",
    "    @abstractmethod\n",
    "    def find_similarity_matrix(self, df:pd.DataFrame):\n",
    "        ...\n",
    "\n",
    "class CosineSimilarity(Similarity):\n",
    "    def __init__(self, threshold:float):\n",
    "        self._th = threshold\n",
    "\n",
    "    def find_similarity_matrix(self, df: pd.DataFrame):\n",
    "       self.similarity_matrix = cosine_similarity(df.to_numpy())\n",
    "       return self.similarity_matrix > self._th\n",
    "\n",
    "\n",
    "class SimilarityNetwork:\n",
    "    def __init__(self, df:pd.DataFrame, similarity_measure: Similarity, index_name:str, columns:list[str]):\n",
    "        self._df: pd.DataFrame = df.set_index(index_name)[columns] # type: ignore\n",
    "        self.sm = similarity_measure\n",
    "        self.nodes = index_name\n",
    "    def fit_transform(self):\n",
    "        self.adjacency_matrix = self.sm.find_similarity_matrix(self._df)\n",
    "    @cached_property\n",
    "    def network(self):\n",
    "        _G  = nx.from_numpy_matrix(self.adjacency_matrix)\n",
    "        return nx.relabel_nodes(_G, {i:n for i, n in enumerate(self.nodes)})"
   ]
  },
  {
   "cell_type": "code",
   "execution_count": 4,
   "metadata": {},
   "outputs": [],
   "source": [
    "import numpy as np\n",
    "\n",
    "# Example data\n",
    "data = np.array([\n",
    "    [1, 2, 3],\n",
    "    [4, 5, 6],\n",
    "    [-3, 8, -9],\n",
    "    [3,-6,2]\n",
    "]).T # Replace this with your actual data\n",
    "\n",
    "df = pd.DataFrame(data, columns=[\"I\",\"a\", \"b\", \"c\"]).set_index(\"I\")"
   ]
  },
  {
   "cell_type": "code",
   "execution_count": 6,
   "metadata": {},
   "outputs": [
    {
     "data": {
      "text/plain": [
       "array([[False, False, False, ..., False, False, False],\n",
       "       [False,  True,  True, ..., False, False, False],\n",
       "       [False,  True,  True, ..., False, False, False],\n",
       "       ...,\n",
       "       [False, False, False, ..., False, False, False],\n",
       "       [False, False, False, ..., False, False, False],\n",
       "       [False, False, False, ..., False, False, False]])"
      ]
     },
     "execution_count": 6,
     "metadata": {},
     "output_type": "execute_result"
    }
   ],
   "source": [
    "cs1 = CosineSimilarity(0.5)\n",
    "cs1.find_similarity_matrix(all_df.query(\"year == 1991\")[ [\"NUMBER OF MONTHS REPORTED\", \"CURRENT POPULATION 1\"] ])"
   ]
  },
  {
   "cell_type": "code",
   "execution_count": 14,
   "metadata": {},
   "outputs": [],
   "source": [
    "import networkx as nx\n",
    "import numpy as np\n",
    "\n",
    "m1 = np.matrix([\n",
    "    [1,0,1,0],\n",
    "    [0,0,0,0],\n",
    "    [0,1,1,1],\n",
    "    [1,1,0,1]\n",
    "])\n",
    "G1 = nx.from_numpy_array(m1, create_using=nx.DiGraph)"
   ]
  },
  {
   "cell_type": "code",
   "execution_count": 20,
   "metadata": {},
   "outputs": [
    {
     "data": {
      "text/plain": [
       "<networkx.classes.digraph.DiGraph at 0x23b7f72cd90>"
      ]
     },
     "execution_count": 20,
     "metadata": {},
     "output_type": "execute_result"
    }
   ],
   "source": [
    "nx.relabel_nodes(G1, {i:n for i,n in enumerate(\"abcd\")}, copy=False)"
   ]
  },
  {
   "cell_type": "code",
   "execution_count": 21,
   "metadata": {},
   "outputs": [
    {
     "data": {
      "text/plain": [
       "OutEdgeView([('a', 'a'), ('a', 'c'), ('c', 'c'), ('c', 'b'), ('c', 'd'), ('d', 'd'), ('d', 'a'), ('d', 'b')])"
      ]
     },
     "execution_count": 21,
     "metadata": {},
     "output_type": "execute_result"
    }
   ],
   "source": [
    "G1.edges"
   ]
  },
  {
   "cell_type": "code",
   "execution_count": null,
   "metadata": {},
   "outputs": [],
   "source": []
  }
 ],
 "metadata": {
  "kernelspec": {
   "display_name": "Python 3",
   "language": "python",
   "name": "python3"
  },
  "language_info": {
   "codemirror_mode": {
    "name": "ipython",
    "version": 3
   },
   "file_extension": ".py",
   "mimetype": "text/x-python",
   "name": "python",
   "nbconvert_exporter": "python",
   "pygments_lexer": "ipython3",
   "version": "3.11.0"
  },
  "orig_nbformat": 4
 },
 "nbformat": 4,
 "nbformat_minor": 2
}
