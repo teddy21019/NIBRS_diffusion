{
 "cells": [
  {
   "cell_type": "code",
   "execution_count": 1,
   "metadata": {},
   "outputs": [],
   "source": [
    "import numpy as np\n",
    "import networkx as nx"
   ]
  },
  {
   "cell_type": "markdown",
   "metadata": {},
   "source": [
    "Consider a network graph denoted as $G = (V, E(\\theta))$, where $V$ represents the set of nodes and $E$ signifies the edges, contingent upon a parameter vector $\\theta$. The set of nodes connected to node $i$ is denoted as $a_i \\subset V$. The vector $D = [\\#(a_1), \\#(a_2), \\cdots, \\#(a_N)]^T$ represents the degree of each node $i \\in V$. Denote the adjacency matrix for $G$ as $\\mathbf{W}$\n",
    "\n",
    "For discrete periods $t \\in [1, T]$, the state for node $i$ is denoted as $y_{it} \\in \\{0, 1\\}$, indicating the transition of NIBRS. Let $y_t = [y_{1t}, y_{2t}, \\cdots, y_{Nt}]^T$ and the augmented matrix $\\mathbf{Y} = [y_1, y_2, \\cdots, y_T]$ be of dimensions $N \\times T$.\n",
    "\n",
    "Assuming a diffusion process following the topology of $G$ and the local function $f_i: a_i \\mapsto \\{0,1\\}$, we define a deterministic diffusion process as one where $f_i = 1$ if the ratio of neighboring adoption $\\gamma_{it}$ exceeds a certain threshold of adoption $\\tau$, else $0$. Here, $\\gamma_{it}$ is given by:\n",
    "$$\n",
    "\\gamma_{it}(y_t, G) = \\begin{cases} \n",
    "    \\frac{\\sum_{j \\in a_i} \\mathbf{1}(y_{jt} = 1)}{\\#(a_i)} &\\quad \\text{if } \\#(a_i) > 0 \\\\\n",
    "    0 & \\quad \\text{otherwise.}\n",
    "\\end{cases}\n",
    "$$\n",
    "The nominator part of $\\gamma_{it}$ can be obtained via the matrix $\\mathbf{\\Gamma} = \\mathbf{W}\\mathbf{Y}$.\n",
    "It is important to note that the cascading behavior is progressive, assuming that agencies do not reverse a transition.\n",
    "\n",
    "The diffusion process on each state vector $y_t$ generates the predicted state for the next period, denoted as $\\hat{y}_{i,t+1}(y_t, G) = \\max\\{\\mathbf{1}(\\gamma_{it} > \\tau), y_{it}\\}$.\n",
    "The predicted state conditions solely on the current observed state and topology, independent with past observations and predictions.\n",
    "\n",
    "The parameter of interest, $\\theta$, is defined as:\n",
    "$$\n",
    "\\theta^* = \\argmin_{\\theta} \\sum_{i \\in V} \\sum_{t=1}^T (\\hat{y}_{i, t+1} - y_{i, t+1})^2\n",
    "$$\n",
    "Or equivalently, define the $N \\times (T-1)$ difference matrix $\\Delta \\equiv \\mathbf{Y}_{t\\in[2, T]} - \\hat{\\mathbf{Y}}_{t \\in [2,T]}$.\n",
    "Then the objective function can be written as the Frobenius norm of $\\Delta$\n",
    "$$\n",
    "    \\theta^* = \\argmin_\\theta {\\Vert \\Delta(\\theta) \\Vert}_F\n",
    "$$\n",
    "\n",
    "Note that $\\theta$ determines the topology of the network, constructing different adjacency matrices, and hence $a_i = a_i(\\theta)$. "
   ]
  },
  {
   "cell_type": "code",
   "execution_count": 2,
   "metadata": {},
   "outputs": [],
   "source": [
    "import networkx as nx\n",
    "import numpy as np\n",
    "\n",
    "def get_diffusion_diff(W:np.ndarray, state_dynamic: np.ndarray, th):\n",
    "    \"\"\"\n",
    "    Calculate the squared difference between the dynamic state and the state after potential adoption\n",
    "    based on a diffusion process over a network.\n",
    "\n",
    "    Parameters:\n",
    "        W : Adjacency matrix of the network\n",
    "        state_dynamic (np.ndarray): Array representing the dynamic state of each node over time.\n",
    "\n",
    "    Returns:\n",
    "        float: Squared difference between the dynamic state and the state after potential adoption.\n",
    "    \"\"\"\n",
    "\n",
    "    # Get the adjacency matrix of the network\n",
    "    # Calculate the total number of neighbors for each node\n",
    "    nodes_n = np.sum(W, axis=1, dtype=np.float64)  # Size: N x 1 matrix since sum along axis = 1\n",
    "\n",
    "    # Calculate the sum of neighbor states for each node over time\n",
    "    neighbor_state_sum_dynamic = (W @ state_dynamic).astype(float)  # Size: N x T, where T is the number of time steps\n",
    "\n",
    "    # Calculate the adoption rate of neighbors for each node over time\n",
    "        # Use np.true divide to cast type\n",
    "    neighbor_adopted_rate = np.divide(neighbor_state_sum_dynamic, nodes_n,\n",
    "                                      out=np.zeros_like(neighbor_state_sum_dynamic),\n",
    "                                      where=nodes_n != 0)\n",
    "\n",
    "    # Determine nodes that should adopt based on neighbor adoption rate\n",
    "    agency_should_adopt = neighbor_adopted_rate > th  # Size: N x T\n",
    "\n",
    "    # Calculate the state of each node after potential adoption\n",
    "    agency_state_after_adopt = agency_should_adopt | state_dynamic  # Size: N x T\n",
    "\n",
    "    # Calculate the squared difference between dynamic state and state after potential adoption\n",
    "    diff = np.sum(\n",
    "        np.square(state_dynamic[:, 1:] - agency_state_after_adopt[:, :-1])\n",
    "    )  # Squared difference, Result: Scalar\n",
    "\n",
    "    return diff\n"
   ]
  },
  {
   "cell_type": "code",
   "execution_count": 3,
   "metadata": {},
   "outputs": [],
   "source": [
    "toy_W = np.matrix([\n",
    "    [0,1,0,0,1],\n",
    "    [1,0,1,1,1],\n",
    "    [0,1,0,0,0],\n",
    "    [0,1,0,1,0],\n",
    "    [1,1,0,0,0]\n",
    "]\n",
    ")\n",
    "toy_dynamic = np.matrix([\n",
    "    [0,0,0,0,1,1,1,1,1,1,1,1],\n",
    "    [0,0,0,0,0,0,0,0,1,1,1,1],\n",
    "    [1,1,1,1,1,1,1,1,1,1,1,1],\n",
    "    [0,0,0,0,0,1,1,1,1,1,1,1],\n",
    "    [0,0,0,0,0,0,0,1,1,1,1,1],\n",
    "])\n"
   ]
  },
  {
   "cell_type": "code",
   "execution_count": 4,
   "metadata": {},
   "outputs": [
    {
     "data": {
      "text/plain": [
       "5"
      ]
     },
     "execution_count": 4,
     "metadata": {},
     "output_type": "execute_result"
    }
   ],
   "source": [
    "\n",
    "get_diffusion_diff(toy_W, toy_dynamic, 0.5)"
   ]
  },
  {
   "cell_type": "code",
   "execution_count": 3,
   "metadata": {},
   "outputs": [],
   "source": [
    "import pandas as pd\n",
    "import networkx as nx\n",
    "from tqdm import tqdm"
   ]
  },
  {
   "cell_type": "code",
   "execution_count": 4,
   "metadata": {},
   "outputs": [],
   "source": [
    "nibrs_df = pd.read_parquet(\"DATA/map_plot.pq\")\n",
    "\n",
    "node_df = pd.read_csv(\"th_8_q_75_node.csv\")\n",
    "edge_df = pd.read_csv(\"th_8_q_75_edge.csv\")"
   ]
  },
  {
   "cell_type": "code",
   "execution_count": 5,
   "metadata": {},
   "outputs": [],
   "source": [
    "G: nx.Graph = nx.from_pandas_edgelist(edge_df, \"Source\", \"Target\")\n",
    "G = nx.relabel_nodes(G, dict(zip(node_df[\"id\"], node_df[\"ORI9\"])))"
   ]
  },
  {
   "cell_type": "code",
   "execution_count": 6,
   "metadata": {},
   "outputs": [],
   "source": [
    "W = nx.adjacency_matrix(G)\n",
    "nodes = list(G.nodes)"
   ]
  },
  {
   "cell_type": "code",
   "execution_count": 10,
   "metadata": {},
   "outputs": [
    {
     "data": {
      "text/plain": [
       "(587, 587)"
      ]
     },
     "execution_count": 10,
     "metadata": {},
     "output_type": "execute_result"
    }
   ],
   "source": [
    "W.shape"
   ]
  },
  {
   "cell_type": "code",
   "execution_count": 12,
   "metadata": {},
   "outputs": [
    {
     "data": {
      "text/html": [
       "<div>\n",
       "<style scoped>\n",
       "    .dataframe tbody tr th:only-of-type {\n",
       "        vertical-align: middle;\n",
       "    }\n",
       "\n",
       "    .dataframe tbody tr th {\n",
       "        vertical-align: top;\n",
       "    }\n",
       "\n",
       "    .dataframe thead th {\n",
       "        text-align: right;\n",
       "    }\n",
       "</style>\n",
       "<table border=\"1\" class=\"dataframe\">\n",
       "  <thead>\n",
       "    <tr style=\"text-align: right;\">\n",
       "      <th>year</th>\n",
       "      <th>1991</th>\n",
       "      <th>1992</th>\n",
       "      <th>1993</th>\n",
       "      <th>1994</th>\n",
       "      <th>1995</th>\n",
       "      <th>1996</th>\n",
       "      <th>1997</th>\n",
       "      <th>1998</th>\n",
       "      <th>1999</th>\n",
       "      <th>2000</th>\n",
       "      <th>...</th>\n",
       "      <th>2012</th>\n",
       "      <th>2013</th>\n",
       "      <th>2014</th>\n",
       "      <th>2015</th>\n",
       "      <th>2016</th>\n",
       "      <th>2017</th>\n",
       "      <th>2018</th>\n",
       "      <th>2019</th>\n",
       "      <th>2020</th>\n",
       "      <th>2021</th>\n",
       "    </tr>\n",
       "    <tr>\n",
       "      <th>ORI</th>\n",
       "      <th></th>\n",
       "      <th></th>\n",
       "      <th></th>\n",
       "      <th></th>\n",
       "      <th></th>\n",
       "      <th></th>\n",
       "      <th></th>\n",
       "      <th></th>\n",
       "      <th></th>\n",
       "      <th></th>\n",
       "      <th></th>\n",
       "      <th></th>\n",
       "      <th></th>\n",
       "      <th></th>\n",
       "      <th></th>\n",
       "      <th></th>\n",
       "      <th></th>\n",
       "      <th></th>\n",
       "      <th></th>\n",
       "      <th></th>\n",
       "      <th></th>\n",
       "    </tr>\n",
       "  </thead>\n",
       "  <tbody>\n",
       "    <tr>\n",
       "      <th>AK0011600</th>\n",
       "      <td>False</td>\n",
       "      <td>False</td>\n",
       "      <td>False</td>\n",
       "      <td>False</td>\n",
       "      <td>False</td>\n",
       "      <td>False</td>\n",
       "      <td>False</td>\n",
       "      <td>False</td>\n",
       "      <td>False</td>\n",
       "      <td>False</td>\n",
       "      <td>...</td>\n",
       "      <td>False</td>\n",
       "      <td>False</td>\n",
       "      <td>False</td>\n",
       "      <td>False</td>\n",
       "      <td>False</td>\n",
       "      <td>False</td>\n",
       "      <td>False</td>\n",
       "      <td>False</td>\n",
       "      <td>False</td>\n",
       "      <td>True</td>\n",
       "    </tr>\n",
       "    <tr>\n",
       "      <th>AL0020100</th>\n",
       "      <td>True</td>\n",
       "      <td>True</td>\n",
       "      <td>False</td>\n",
       "      <td>False</td>\n",
       "      <td>False</td>\n",
       "      <td>False</td>\n",
       "      <td>False</td>\n",
       "      <td>False</td>\n",
       "      <td>False</td>\n",
       "      <td>False</td>\n",
       "      <td>...</td>\n",
       "      <td>False</td>\n",
       "      <td>False</td>\n",
       "      <td>False</td>\n",
       "      <td>False</td>\n",
       "      <td>False</td>\n",
       "      <td>False</td>\n",
       "      <td>False</td>\n",
       "      <td>False</td>\n",
       "      <td>False</td>\n",
       "      <td>True</td>\n",
       "    </tr>\n",
       "    <tr>\n",
       "      <th>AL0390400</th>\n",
       "      <td>True</td>\n",
       "      <td>True</td>\n",
       "      <td>False</td>\n",
       "      <td>False</td>\n",
       "      <td>False</td>\n",
       "      <td>False</td>\n",
       "      <td>False</td>\n",
       "      <td>False</td>\n",
       "      <td>False</td>\n",
       "      <td>False</td>\n",
       "      <td>...</td>\n",
       "      <td>False</td>\n",
       "      <td>False</td>\n",
       "      <td>False</td>\n",
       "      <td>False</td>\n",
       "      <td>False</td>\n",
       "      <td>False</td>\n",
       "      <td>False</td>\n",
       "      <td>False</td>\n",
       "      <td>False</td>\n",
       "      <td>True</td>\n",
       "    </tr>\n",
       "    <tr>\n",
       "      <th>AL0400200</th>\n",
       "      <td>False</td>\n",
       "      <td>False</td>\n",
       "      <td>False</td>\n",
       "      <td>False</td>\n",
       "      <td>False</td>\n",
       "      <td>False</td>\n",
       "      <td>False</td>\n",
       "      <td>False</td>\n",
       "      <td>False</td>\n",
       "      <td>False</td>\n",
       "      <td>...</td>\n",
       "      <td>False</td>\n",
       "      <td>False</td>\n",
       "      <td>False</td>\n",
       "      <td>False</td>\n",
       "      <td>False</td>\n",
       "      <td>False</td>\n",
       "      <td>False</td>\n",
       "      <td>False</td>\n",
       "      <td>True</td>\n",
       "      <td>True</td>\n",
       "    </tr>\n",
       "    <tr>\n",
       "      <th>AL0600000</th>\n",
       "      <td>True</td>\n",
       "      <td>True</td>\n",
       "      <td>False</td>\n",
       "      <td>False</td>\n",
       "      <td>False</td>\n",
       "      <td>False</td>\n",
       "      <td>False</td>\n",
       "      <td>False</td>\n",
       "      <td>False</td>\n",
       "      <td>False</td>\n",
       "      <td>...</td>\n",
       "      <td>False</td>\n",
       "      <td>False</td>\n",
       "      <td>False</td>\n",
       "      <td>False</td>\n",
       "      <td>False</td>\n",
       "      <td>False</td>\n",
       "      <td>False</td>\n",
       "      <td>False</td>\n",
       "      <td>False</td>\n",
       "      <td>True</td>\n",
       "    </tr>\n",
       "    <tr>\n",
       "      <th>...</th>\n",
       "      <td>...</td>\n",
       "      <td>...</td>\n",
       "      <td>...</td>\n",
       "      <td>...</td>\n",
       "      <td>...</td>\n",
       "      <td>...</td>\n",
       "      <td>...</td>\n",
       "      <td>...</td>\n",
       "      <td>...</td>\n",
       "      <td>...</td>\n",
       "      <td>...</td>\n",
       "      <td>...</td>\n",
       "      <td>...</td>\n",
       "      <td>...</td>\n",
       "      <td>...</td>\n",
       "      <td>...</td>\n",
       "      <td>...</td>\n",
       "      <td>...</td>\n",
       "      <td>...</td>\n",
       "      <td>...</td>\n",
       "      <td>...</td>\n",
       "    </tr>\n",
       "    <tr>\n",
       "      <th>WV0290300</th>\n",
       "      <td>False</td>\n",
       "      <td>False</td>\n",
       "      <td>False</td>\n",
       "      <td>False</td>\n",
       "      <td>False</td>\n",
       "      <td>False</td>\n",
       "      <td>False</td>\n",
       "      <td>False</td>\n",
       "      <td>False</td>\n",
       "      <td>True</td>\n",
       "      <td>...</td>\n",
       "      <td>True</td>\n",
       "      <td>False</td>\n",
       "      <td>False</td>\n",
       "      <td>False</td>\n",
       "      <td>True</td>\n",
       "      <td>True</td>\n",
       "      <td>True</td>\n",
       "      <td>True</td>\n",
       "      <td>True</td>\n",
       "      <td>False</td>\n",
       "    </tr>\n",
       "    <tr>\n",
       "      <th>WV0310400</th>\n",
       "      <td>False</td>\n",
       "      <td>False</td>\n",
       "      <td>False</td>\n",
       "      <td>False</td>\n",
       "      <td>False</td>\n",
       "      <td>False</td>\n",
       "      <td>False</td>\n",
       "      <td>True</td>\n",
       "      <td>True</td>\n",
       "      <td>True</td>\n",
       "      <td>...</td>\n",
       "      <td>False</td>\n",
       "      <td>False</td>\n",
       "      <td>False</td>\n",
       "      <td>False</td>\n",
       "      <td>False</td>\n",
       "      <td>False</td>\n",
       "      <td>False</td>\n",
       "      <td>True</td>\n",
       "      <td>True</td>\n",
       "      <td>False</td>\n",
       "    </tr>\n",
       "    <tr>\n",
       "      <th>WV0460100</th>\n",
       "      <td>False</td>\n",
       "      <td>False</td>\n",
       "      <td>False</td>\n",
       "      <td>False</td>\n",
       "      <td>False</td>\n",
       "      <td>False</td>\n",
       "      <td>False</td>\n",
       "      <td>False</td>\n",
       "      <td>True</td>\n",
       "      <td>True</td>\n",
       "      <td>...</td>\n",
       "      <td>True</td>\n",
       "      <td>True</td>\n",
       "      <td>True</td>\n",
       "      <td>True</td>\n",
       "      <td>True</td>\n",
       "      <td>True</td>\n",
       "      <td>True</td>\n",
       "      <td>True</td>\n",
       "      <td>True</td>\n",
       "      <td>True</td>\n",
       "    </tr>\n",
       "    <tr>\n",
       "      <th>WY0120200</th>\n",
       "      <td>False</td>\n",
       "      <td>False</td>\n",
       "      <td>False</td>\n",
       "      <td>False</td>\n",
       "      <td>False</td>\n",
       "      <td>False</td>\n",
       "      <td>False</td>\n",
       "      <td>False</td>\n",
       "      <td>False</td>\n",
       "      <td>False</td>\n",
       "      <td>...</td>\n",
       "      <td>False</td>\n",
       "      <td>False</td>\n",
       "      <td>False</td>\n",
       "      <td>False</td>\n",
       "      <td>False</td>\n",
       "      <td>False</td>\n",
       "      <td>False</td>\n",
       "      <td>False</td>\n",
       "      <td>False</td>\n",
       "      <td>False</td>\n",
       "    </tr>\n",
       "    <tr>\n",
       "      <th>WY0210100</th>\n",
       "      <td>False</td>\n",
       "      <td>False</td>\n",
       "      <td>False</td>\n",
       "      <td>False</td>\n",
       "      <td>False</td>\n",
       "      <td>False</td>\n",
       "      <td>False</td>\n",
       "      <td>False</td>\n",
       "      <td>False</td>\n",
       "      <td>False</td>\n",
       "      <td>...</td>\n",
       "      <td>False</td>\n",
       "      <td>False</td>\n",
       "      <td>False</td>\n",
       "      <td>False</td>\n",
       "      <td>False</td>\n",
       "      <td>False</td>\n",
       "      <td>False</td>\n",
       "      <td>True</td>\n",
       "      <td>True</td>\n",
       "      <td>True</td>\n",
       "    </tr>\n",
       "  </tbody>\n",
       "</table>\n",
       "<p>497 rows × 31 columns</p>\n",
       "</div>"
      ],
      "text/plain": [
       "year        1991   1992   1993   1994   1995   1996   1997   1998   1999  \\\n",
       "ORI                                                                        \n",
       "AK0011600  False  False  False  False  False  False  False  False  False   \n",
       "AL0020100   True   True  False  False  False  False  False  False  False   \n",
       "AL0390400   True   True  False  False  False  False  False  False  False   \n",
       "AL0400200  False  False  False  False  False  False  False  False  False   \n",
       "AL0600000   True   True  False  False  False  False  False  False  False   \n",
       "...          ...    ...    ...    ...    ...    ...    ...    ...    ...   \n",
       "WV0290300  False  False  False  False  False  False  False  False  False   \n",
       "WV0310400  False  False  False  False  False  False  False   True   True   \n",
       "WV0460100  False  False  False  False  False  False  False  False   True   \n",
       "WY0120200  False  False  False  False  False  False  False  False  False   \n",
       "WY0210100  False  False  False  False  False  False  False  False  False   \n",
       "\n",
       "year        2000  ...   2012   2013   2014   2015   2016   2017   2018   2019  \\\n",
       "ORI               ...                                                           \n",
       "AK0011600  False  ...  False  False  False  False  False  False  False  False   \n",
       "AL0020100  False  ...  False  False  False  False  False  False  False  False   \n",
       "AL0390400  False  ...  False  False  False  False  False  False  False  False   \n",
       "AL0400200  False  ...  False  False  False  False  False  False  False  False   \n",
       "AL0600000  False  ...  False  False  False  False  False  False  False  False   \n",
       "...          ...  ...    ...    ...    ...    ...    ...    ...    ...    ...   \n",
       "WV0290300   True  ...   True  False  False  False   True   True   True   True   \n",
       "WV0310400   True  ...  False  False  False  False  False  False  False   True   \n",
       "WV0460100   True  ...   True   True   True   True   True   True   True   True   \n",
       "WY0120200  False  ...  False  False  False  False  False  False  False  False   \n",
       "WY0210100  False  ...  False  False  False  False  False  False  False   True   \n",
       "\n",
       "year        2020   2021  \n",
       "ORI                      \n",
       "AK0011600  False   True  \n",
       "AL0020100  False   True  \n",
       "AL0390400  False   True  \n",
       "AL0400200   True   True  \n",
       "AL0600000  False   True  \n",
       "...          ...    ...  \n",
       "WV0290300   True  False  \n",
       "WV0310400   True  False  \n",
       "WV0460100   True   True  \n",
       "WY0120200  False  False  \n",
       "WY0210100   True   True  \n",
       "\n",
       "[497 rows x 31 columns]"
      ]
     },
     "execution_count": 12,
     "metadata": {},
     "output_type": "execute_result"
    }
   ],
   "source": [
    "dynamic = nibrs_df[nibrs_df[\"ORI\"].isin(nodes)].assign(y = nibrs_df[\"NUMBER OF MONTHS REPORTED\"]>0) \\\n",
    "    .pivot_table(index=\"ORI\", columns=\"year\", values=\"y\", aggfunc='first').fillna(False)\n",
    "dynamic"
   ]
  },
  {
   "cell_type": "code",
   "execution_count": 45,
   "metadata": {},
   "outputs": [
    {
     "data": {
      "text/plain": [
       "Index(['AK0011600', 'AL0020100', 'AL0390400', 'AL0400200', 'AL0600000',\n",
       "       'AL0600200', 'AL0640500', 'AR0030200', 'AR0050200', 'AR0090200',\n",
       "       ...\n",
       "       'WI0690100', 'WI0690600', 'WV0090000', 'WV0240900', 'WV0250600',\n",
       "       'WV0290300', 'WV0310400', 'WV0460100', 'WY0120200', 'WY0210100'],\n",
       "      dtype='object', name='ORI', length=497)"
      ]
     },
     "execution_count": 45,
     "metadata": {},
     "output_type": "execute_result"
    }
   ],
   "source": [
    "dynamic.index"
   ]
  },
  {
   "cell_type": "code",
   "execution_count": 34,
   "metadata": {},
   "outputs": [],
   "source": [
    "G_sub = nx.subgraph(G, dynamic.index)\n",
    "adj_matrix = np.matrix( nx.adjacency_matrix(G_sub, dynamic.index).toarray() )"
   ]
  },
  {
   "cell_type": "code",
   "execution_count": 35,
   "metadata": {},
   "outputs": [
    {
     "data": {
      "text/plain": [
       "matrix([[0, 0, 0, ..., 0, 0, 0],\n",
       "        [0, 0, 0, ..., 0, 0, 0],\n",
       "        [0, 0, 0, ..., 0, 0, 0],\n",
       "        ...,\n",
       "        [0, 0, 0, ..., 0, 0, 0],\n",
       "        [0, 0, 0, ..., 0, 0, 0],\n",
       "        [0, 0, 0, ..., 0, 0, 0]], dtype=int32)"
      ]
     },
     "execution_count": 35,
     "metadata": {},
     "output_type": "execute_result"
    }
   ],
   "source": [
    "adj_matrix"
   ]
  },
  {
   "cell_type": "code",
   "execution_count": 36,
   "metadata": {},
   "outputs": [
    {
     "data": {
      "text/plain": [
       "Index(['AK0011600', 'AL0020100', 'AL0390400', 'AL0400200', 'AL0600000',\n",
       "       'AL0600200', 'AL0640500', 'AR0030200', 'AR0050200', 'AR0090200',\n",
       "       ...\n",
       "       'WI0690100', 'WI0690600', 'WV0090000', 'WV0240900', 'WV0250600',\n",
       "       'WV0290300', 'WV0310400', 'WV0460100', 'WY0120200', 'WY0210100'],\n",
       "      dtype='object', name='ORI', length=497)"
      ]
     },
     "execution_count": 36,
     "metadata": {},
     "output_type": "execute_result"
    }
   ],
   "source": [
    "dynamic.index"
   ]
  },
  {
   "cell_type": "code",
   "execution_count": 37,
   "metadata": {},
   "outputs": [],
   "source": [
    "benchmark_diff = get_diffusion_diff(\n",
    "    adj_matrix,\n",
    "    dynamic.to_numpy(dtype=int),\n",
    "    0.5\n",
    ")"
   ]
  },
  {
   "cell_type": "code",
   "execution_count": 38,
   "metadata": {},
   "outputs": [
    {
     "data": {
      "text/plain": [
       "1666"
      ]
     },
     "execution_count": 38,
     "metadata": {},
     "output_type": "execute_result"
    }
   ],
   "source": [
    "benchmark_diff"
   ]
  },
  {
   "cell_type": "code",
   "execution_count": 39,
   "metadata": {},
   "outputs": [],
   "source": [
    "def random_wire_diff(th: float):\n",
    "    if th<0 or th>1:\n",
    "        raise ValueError(\"Threshold should be in (0,1)!\")\n",
    "\n",
    "    random_G = nx.random_degree_sequence_graph([d for n, d in G_sub.degree()])\n",
    "    rand_adj_matrix = np.matrix( nx.adjacency_matrix(random_G).toarray() )\n",
    "    d = get_diffusion_diff(\n",
    "        rand_adj_matrix,\n",
    "        dynamic.to_numpy(dtype=int),\n",
    "        th\n",
    "    )\n",
    "    return d"
   ]
  },
  {
   "cell_type": "code",
   "execution_count": null,
   "metadata": {},
   "outputs": [],
   "source": [
    "list_of_random = [random_wire_diff(0.5) for  _ in range(100)]"
   ]
  },
  {
   "cell_type": "code",
   "execution_count": 16,
   "metadata": {},
   "outputs": [
    {
     "data": {
      "text/plain": [
       "1725"
      ]
     },
     "execution_count": 16,
     "metadata": {},
     "output_type": "execute_result"
    }
   ],
   "source": [
    "random_wire_diff(0.5)"
   ]
  },
  {
   "cell_type": "code",
   "execution_count": 17,
   "metadata": {},
   "outputs": [
    {
     "data": {
      "text/plain": [
       "0.0"
      ]
     },
     "execution_count": 17,
     "metadata": {},
     "output_type": "execute_result"
    }
   ],
   "source": [
    "sum(benchmark_diff > diff for diff in list_of_random) / len(list_of_random)"
   ]
  },
  {
   "cell_type": "code",
   "execution_count": 18,
   "metadata": {},
   "outputs": [
    {
     "data": {
      "text/plain": [
       "[1680,\n",
       " 1794,\n",
       " 1684,\n",
       " 1688,\n",
       " 1555,\n",
       " 1749,\n",
       " 1617,\n",
       " 1735,\n",
       " 1776,\n",
       " 1861,\n",
       " 1759,\n",
       " 1653,\n",
       " 1640,\n",
       " 1604,\n",
       " 1746,\n",
       " 1628,\n",
       " 1705,\n",
       " 1815,\n",
       " 1766,\n",
       " 1834,\n",
       " 1663,\n",
       " 1556,\n",
       " 1769,\n",
       " 1657,\n",
       " 1616,\n",
       " 1587,\n",
       " 1522,\n",
       " 1774,\n",
       " 1615,\n",
       " 1654,\n",
       " 1637,\n",
       " 1648,\n",
       " 1741,\n",
       " 1597,\n",
       " 1672,\n",
       " 1808,\n",
       " 1715,\n",
       " 1802,\n",
       " 1765,\n",
       " 1676,\n",
       " 1816,\n",
       " 1698,\n",
       " 1740,\n",
       " 1708,\n",
       " 1673,\n",
       " 1699,\n",
       " 1655,\n",
       " 1717,\n",
       " 1670,\n",
       " 1702,\n",
       " 1745,\n",
       " 1735,\n",
       " 1741,\n",
       " 1723,\n",
       " 1834,\n",
       " 1599,\n",
       " 1683,\n",
       " 1816,\n",
       " 1612,\n",
       " 1439,\n",
       " 1820,\n",
       " 1620,\n",
       " 1731,\n",
       " 1690,\n",
       " 1653,\n",
       " 1799,\n",
       " 1539,\n",
       " 1714,\n",
       " 1674,\n",
       " 1800,\n",
       " 1738,\n",
       " 1644,\n",
       " 1607,\n",
       " 1559,\n",
       " 1807,\n",
       " 1727,\n",
       " 1703,\n",
       " 1641,\n",
       " 1787,\n",
       " 1874,\n",
       " 1707,\n",
       " 1579,\n",
       " 1695,\n",
       " 1867,\n",
       " 1724,\n",
       " 1618,\n",
       " 1673,\n",
       " 1765,\n",
       " 1674,\n",
       " 1726,\n",
       " 1664,\n",
       " 1633,\n",
       " 1801,\n",
       " 1689,\n",
       " 1635,\n",
       " 1828,\n",
       " 1847,\n",
       " 1835,\n",
       " 1642,\n",
       " 1776]"
      ]
     },
     "execution_count": 18,
     "metadata": {},
     "output_type": "execute_result"
    }
   ],
   "source": [
    "list_of_random\n"
   ]
  },
  {
   "cell_type": "code",
   "execution_count": 41,
   "metadata": {},
   "outputs": [
    {
     "name": "stderr",
     "output_type": "stream",
     "text": [
      "  0%|          | 0/9 [00:00<?, ?it/s]"
     ]
    },
    {
     "name": "stderr",
     "output_type": "stream",
     "text": [
      "100%|██████████| 9/9 [14:13<00:00, 94.83s/it] \n"
     ]
    }
   ],
   "source": [
    "th_change = []\n",
    "for i in tqdm(range(1,10)):\n",
    "    th = i/10.0\n",
    "    list_of_random = [random_wire_diff(th) for _ in range(100)]\n",
    "    th_change.append(\n",
    "        sum(benchmark_diff > diff for diff in list_of_random) / len(list_of_random)\n",
    "    )"
   ]
  },
  {
   "cell_type": "code",
   "execution_count": 42,
   "metadata": {},
   "outputs": [
    {
     "data": {
      "text/plain": [
       "[0.0, 0.0, 0.0, 0.0, 0.33, 0.82, 1.0, 0.99, 1.0]"
      ]
     },
     "execution_count": 42,
     "metadata": {},
     "output_type": "execute_result"
    }
   ],
   "source": [
    "th_change"
   ]
  },
  {
   "cell_type": "code",
   "execution_count": 44,
   "metadata": {},
   "outputs": [
    {
     "data": {
      "image/png": "[encoded data removed]",
      "text/plain": [
       "<Figure size 640x480 with 1 Axes>"
      ]
     },
     "metadata": {},
     "output_type": "display_data"
    }
   ],
   "source": [
    "import matplotlib.pyplot as plt\n",
    "\n",
    "plt.plot(np.arange(1,10)/10, th_change, '-o');\n",
    "for i in range(9):\n",
    "    plt.annotate(f\"{th_change[i]}\",((i+1)/10 -0.05 , th_change[i] + 0.02) );\n",
    "plt.ylim(-0.1,1.1); plt.xlim(0,1);\n",
    "plt.hlines(0.05, xmin=0, xmax=1, linestyles='--', colors='grey');\n",
    "plt.grid(alpha=0.3)"
   ]
  },
  {
   "cell_type": "code",
   "execution_count": null,
   "metadata": {},
   "outputs": [],
   "source": []
  }
 ],
 "metadata": {
  "kernelspec": {
   "display_name": "Python 3",
   "language": "python",
   "name": "python3"
  },
  "language_info": {
   "codemirror_mode": {
    "name": "ipython",
    "version": 3
   },
   "file_extension": ".py",
   "mimetype": "text/x-python",
   "name": "python",
   "nbconvert_exporter": "python",
   "pygments_lexer": "ipython3",
   "version": "3.11.0"
  },
  "orig_nbformat": 4
 },
 "nbformat": 4,
 "nbformat_minor": 2
}
